{
 "cells": [
  {
   "cell_type": "code",
   "execution_count": null,
   "id": "b906d001",
   "metadata": {},
   "outputs": [],
   "source": [
    "import math\n",
    "# Import pandas with alias\n",
    "import pandas as pd\n",
    "\n",
    "# Read in the census dataframe\n",
    "census = pd.read_csv('census_data.csv', index_col=0)"
   ]
  },
  {
   "cell_type": "code",
   "execution_count": null,
   "id": "f3803d6b",
   "metadata": {},
   "outputs": [],
   "source": [
    "# Steps 1 & 2\n",
    "print(census.head())"
   ]
  },
  {
   "cell_type": "code",
   "execution_count": null,
   "id": "1883fcf4",
   "metadata": {},
   "outputs": [],
   "source": [
    "# Step 3\n",
    "print(census.dtypes)"
   ]
  },
  {
   "cell_type": "code",
   "execution_count": null,
   "id": "648b9d6e",
   "metadata": {},
   "outputs": [],
   "source": [
    "# Step 4 \n",
    "print(census['birth_year'].nunique())\n",
    "print(census['birth_year'].unique())\n",
    "print(pd.crosstab(index=census['birth_year'], columns='count'))"
   ]
  },
  {
   "cell_type": "code",
   "execution_count": null,
   "id": "dfe7847d",
   "metadata": {},
   "outputs": [],
   "source": [
    "# Step 5\n",
    "# There appears to be a missing value in the birth_year column. With some research you find that the respondent’s birth year is 1967.\n",
    "census['birth_year'] = census['birth_year'].replace(['missing'], '1967')\n",
    "print(census['birth_year'].unique())"
   ]
  },
  {
   "cell_type": "code",
   "execution_count": null,
   "id": "64f988b8",
   "metadata": {},
   "outputs": [],
   "source": [
    "# Step 6\n",
    "# Change data type\n",
    "census['birth_year'] = census['birth_year'].astype('int')\n",
    "print(census['birth_year'].dtype)"
   ]
  },
  {
   "cell_type": "code",
   "execution_count": null,
   "id": "aead6ef9",
   "metadata": {},
   "outputs": [],
   "source": [
    "# Step 7\n",
    "print(math.floor(census['birth_year'].mean()))"
   ]
  },
  {
   "cell_type": "code",
   "execution_count": null,
   "id": "653183c0",
   "metadata": {},
   "outputs": [],
   "source": [
    "# Step 8 \n",
    "census['higher_tax'] = pd.Categorical(census['higher_tax'], ['strongly disagree', 'disagree','neutral', 'agree', 'strongly agree'], ordered=True)\n",
    "print(census['higher_tax'].dtype)\n",
    "print(census['higher_tax'].unique())"
   ]
  },
  {
   "cell_type": "code",
   "execution_count": null,
   "id": "6e603ddf",
   "metadata": {},
   "outputs": [],
   "source": [
    "# Step 9\n",
    "census['higher_tax_codes'] = census['higher_tax'].cat.codes\n",
    "print(census['higher_tax_codes'].median()) \n",
    "print(census['higher_tax_codes'].dtype)\n",
    "print(pd.crosstab(index=census['higher_tax_codes'], columns='count'))\n",
    "# obviously the median of a Likert scale type question like that is neutral... "
   ]
  },
  {
   "cell_type": "code",
   "execution_count": null,
   "id": "a5a3a91c",
   "metadata": {},
   "outputs": [],
   "source": [
    "# making a duplicate census['marital_status'] column for census because Step 11 asks for use of census['marital_status'], which no longer exists after OHE\n",
    "census['marital_status_copy'] = census['marital_status']"
   ]
  },
  {
   "cell_type": "code",
   "execution_count": null,
   "id": "f809b4ad",
   "metadata": {},
   "outputs": [],
   "source": [
    "# Step 10 \n",
    "census = pd.get_dummies(data=census, columns=['marital_status'])\n",
    "print(census.head())\n",
    "print(census.dtypes)"
   ]
  },
  {
   "cell_type": "code",
   "execution_count": null,
   "id": "47ae1477",
   "metadata": {},
   "outputs": [],
   "source": [
    "# Step 11 census['marital_codes']\n",
    "print(pd.crosstab(index=census['marital_status_copy'], columns='count'))\n",
    "census['marital_status_copy'] = pd.Categorical(census['marital_status_copy'], ['single', 'married', 'divorced', 'widowed'], ordered=False)\n",
    "print(census['marital_status_copy'].dtypes)\n",
    "print(census['marital_status_copy'].unique)\n",
    "census['marital_codes'] = census['marital_status_copy'].cat.codes\n",
    "print(pd.crosstab(index=census['marital_codes'], columns='count'))\n",
    "print(census.head())"
   ]
  },
  {
   "cell_type": "code",
   "execution_count": null,
   "id": "fa518883",
   "metadata": {},
   "outputs": [],
   "source": [
    "# Step 11 census['age_group']\n",
    "#Create a new variable called age_group, which groups respondents based on their birth year. The groups should be in five-year increments, e.g., 25-30, 31-35, etc.\n",
    "# so they did not provide an age variable in this dataset. Only a birth year. I am assuming this data is fictitious, so I don't know what year this fictitious data was collected. Technically, for a survey like this, age should be the age at time of data collection. But since I don't know the date of data collection, I will have to calculate the age based on the current year, 2021. \n",
    "census['age'] = 2021 - census['birth_year']\n",
    "print(census.head())\n",
    "print(pd.crosstab(index=census['age'], columns='count'))\n",
    "# min age = 14 max age = 81\n",
    "print(census['age'].min()) # 14\n",
    "print(census['age'].max()) # 81\n",
    "# Create bins\n",
    "bins = [x for x in range(10, 90, 5)]\n",
    "print(bins)\n",
    "census['binned_age'] = pd.cut(census['age'], bins)\n",
    "print(census['binned_age'].dtypes)\n",
    "print(census[['binned_age', 'age']].head())\n",
    "print(len(census['age']))\n",
    "print(pd.crosstab(index=census['binned_age'], columns='count'))\n",
    "print(census.head())\n",
    "#Then label encode the age_group variable to assist the Census team in the event they would like to use machine learning to predict if a respondent thinks the wealthy should pay higher taxes based on their age group.\n",
    "census['age_group'] = census['binned_age']\n",
    "print(census['age_group'].dtypes)\n",
    "print(census['age_group'].unique())\n",
    "census['age_group'] = census['age_group'].cat.codes\n",
    "print(census.head())"
   ]
  }
 ],
 "metadata": {
  "kernelspec": {
   "display_name": "Python 3",
   "language": "python",
   "name": "python3"
  },
  "language_info": {
   "codemirror_mode": {
    "name": "ipython",
    "version": 3
   },
   "file_extension": ".py",
   "mimetype": "text/x-python",
   "name": "python",
   "nbconvert_exporter": "python",
   "pygments_lexer": "ipython3",
   "version": "3.9.5"
  }
 },
 "nbformat": 4,
 "nbformat_minor": 5
}
